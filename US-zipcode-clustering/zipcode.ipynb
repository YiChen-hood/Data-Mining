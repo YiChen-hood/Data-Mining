{
  "nbformat": 4,
  "nbformat_minor": 0,
  "metadata": {
    "colab": {
      "name": "zipcode.ipynb",
      "provenance": [],
      "collapsed_sections": []
    },
    "kernelspec": {
      "name": "python3",
      "display_name": "Python 3"
    },
    "language_info": {
      "name": "python"
    }
  },
  "cells": [
    {
      "cell_type": "code",
      "metadata": {
        "id": "4HgDG7yE-Y0L"
      },
      "source": [
        "from matplotlib.collections import LineCollection\n",
        "import matplotlib as mpl\n",
        "from matplotlib.colors import rgb2hex\n",
        "from matplotlib.font_manager import FontProperties\n",
        "import matplotlib.pyplot as plt\n",
        "import numpy as np\n",
        "import pandas as pd\n",
        "import random as rd\n",
        "from sklearn.cluster import DBSCAN\n",
        "from mpl_toolkits.basemap import Basemap"
      ],
      "execution_count": 88,
      "outputs": []
    },
    {
      "cell_type": "code",
      "metadata": {
        "id": "j8pXbzVJKD0a"
      },
      "source": [
        "# using below link to import basemap \n",
        "# !pip install https://github.com/matplotlib/basemap/archive/master.zip"
      ],
      "execution_count": null,
      "outputs": []
    },
    {
      "cell_type": "code",
      "metadata": {
        "colab": {
          "resources": {
            "http://localhost:8080/nbextensions/google.colab/files.js": {
              "data": "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",
              "ok": true,
              "headers": [
                [
                  "content-type",
                  "application/javascript"
                ]
              ],
              "status": 200,
              "status_text": ""
            }
          },
          "base_uri": "https://localhost:8080/",
          "height": 73
        },
        "id": "84t2TpP2-Fct",
        "outputId": "a1b20968-9960-4899-80cb-d92ead4eb33f"
      },
      "source": [
        "from google.colab import files\n",
        "uploaded = files.upload()"
      ],
      "execution_count": 10,
      "outputs": [
        {
          "output_type": "display_data",
          "data": {
            "text/html": [
              "\n",
              "     <input type=\"file\" id=\"files-58c01569-bf62-4a57-bcb3-8265b300df54\" name=\"files[]\" multiple disabled\n",
              "        style=\"border:none\" />\n",
              "     <output id=\"result-58c01569-bf62-4a57-bcb3-8265b300df54\">\n",
              "      Upload widget is only available when the cell has been executed in the\n",
              "      current browser session. Please rerun this cell to enable.\n",
              "      </output>\n",
              "      <script src=\"/nbextensions/google.colab/files.js\"></script> "
            ],
            "text/plain": [
              "<IPython.core.display.HTML object>"
            ]
          },
          "metadata": {}
        },
        {
          "output_type": "stream",
          "name": "stdout",
          "text": [
            "Saving uszips.csv to uszips (1).csv\n"
          ]
        }
      ]
    },
    {
      "cell_type": "code",
      "metadata": {
        "id": "EAss19C9AMI8"
      },
      "source": [
        "zips = pd.read_csv(\"uszips.csv\")"
      ],
      "execution_count": 11,
      "outputs": []
    },
    {
      "cell_type": "code",
      "metadata": {
        "colab": {
          "base_uri": "https://localhost:8080/",
          "height": 295
        },
        "id": "yP709M7yAqHy",
        "outputId": "190b3abb-c4c1-43c4-edd1-50459538c791"
      },
      "source": [
        "zips.head()"
      ],
      "execution_count": 12,
      "outputs": [
        {
          "output_type": "execute_result",
          "data": {
            "text/html": [
              "<div>\n",
              "<style scoped>\n",
              "    .dataframe tbody tr th:only-of-type {\n",
              "        vertical-align: middle;\n",
              "    }\n",
              "\n",
              "    .dataframe tbody tr th {\n",
              "        vertical-align: top;\n",
              "    }\n",
              "\n",
              "    .dataframe thead th {\n",
              "        text-align: right;\n",
              "    }\n",
              "</style>\n",
              "<table border=\"1\" class=\"dataframe\">\n",
              "  <thead>\n",
              "    <tr style=\"text-align: right;\">\n",
              "      <th></th>\n",
              "      <th>zip</th>\n",
              "      <th>lat</th>\n",
              "      <th>lng</th>\n",
              "      <th>city</th>\n",
              "      <th>state_id</th>\n",
              "      <th>state_name</th>\n",
              "      <th>zcta</th>\n",
              "      <th>parent_zcta</th>\n",
              "      <th>population</th>\n",
              "      <th>density</th>\n",
              "      <th>county_fips</th>\n",
              "      <th>county_name</th>\n",
              "      <th>county_weights</th>\n",
              "      <th>county_names_all</th>\n",
              "      <th>county_fips_all</th>\n",
              "      <th>imprecise</th>\n",
              "      <th>military</th>\n",
              "      <th>timezone</th>\n",
              "    </tr>\n",
              "  </thead>\n",
              "  <tbody>\n",
              "    <tr>\n",
              "      <th>0</th>\n",
              "      <td>601</td>\n",
              "      <td>18.18005</td>\n",
              "      <td>-66.75218</td>\n",
              "      <td>Adjuntas</td>\n",
              "      <td>PR</td>\n",
              "      <td>Puerto Rico</td>\n",
              "      <td>True</td>\n",
              "      <td>NaN</td>\n",
              "      <td>17113.0</td>\n",
              "      <td>102.7</td>\n",
              "      <td>72001</td>\n",
              "      <td>Adjuntas</td>\n",
              "      <td>{\"72001\": \"99.43\", \"72141\": \"0.57\"}</td>\n",
              "      <td>Adjuntas|Utuado</td>\n",
              "      <td>72001|72141</td>\n",
              "      <td>False</td>\n",
              "      <td>False</td>\n",
              "      <td>America/Puerto_Rico</td>\n",
              "    </tr>\n",
              "    <tr>\n",
              "      <th>1</th>\n",
              "      <td>602</td>\n",
              "      <td>18.36074</td>\n",
              "      <td>-67.17519</td>\n",
              "      <td>Aguada</td>\n",
              "      <td>PR</td>\n",
              "      <td>Puerto Rico</td>\n",
              "      <td>True</td>\n",
              "      <td>NaN</td>\n",
              "      <td>37751.0</td>\n",
              "      <td>476.0</td>\n",
              "      <td>72003</td>\n",
              "      <td>Aguada</td>\n",
              "      <td>{\"72003\": \"100\"}</td>\n",
              "      <td>Aguada</td>\n",
              "      <td>72003</td>\n",
              "      <td>False</td>\n",
              "      <td>False</td>\n",
              "      <td>America/Puerto_Rico</td>\n",
              "    </tr>\n",
              "    <tr>\n",
              "      <th>2</th>\n",
              "      <td>603</td>\n",
              "      <td>18.45440</td>\n",
              "      <td>-67.12201</td>\n",
              "      <td>Aguadilla</td>\n",
              "      <td>PR</td>\n",
              "      <td>Puerto Rico</td>\n",
              "      <td>True</td>\n",
              "      <td>NaN</td>\n",
              "      <td>47081.0</td>\n",
              "      <td>574.9</td>\n",
              "      <td>72005</td>\n",
              "      <td>Aguadilla</td>\n",
              "      <td>{\"72005\": \"100\"}</td>\n",
              "      <td>Aguadilla</td>\n",
              "      <td>72005</td>\n",
              "      <td>False</td>\n",
              "      <td>False</td>\n",
              "      <td>America/Puerto_Rico</td>\n",
              "    </tr>\n",
              "    <tr>\n",
              "      <th>3</th>\n",
              "      <td>606</td>\n",
              "      <td>18.16721</td>\n",
              "      <td>-66.93828</td>\n",
              "      <td>Maricao</td>\n",
              "      <td>PR</td>\n",
              "      <td>Puerto Rico</td>\n",
              "      <td>True</td>\n",
              "      <td>NaN</td>\n",
              "      <td>6392.0</td>\n",
              "      <td>58.3</td>\n",
              "      <td>72093</td>\n",
              "      <td>Maricao</td>\n",
              "      <td>{\"72093\": \"94.88\", \"72153\": \"3.78\", \"72121\": \"...</td>\n",
              "      <td>Maricao|Yauco|Sabana Grande</td>\n",
              "      <td>72093|72153|72121</td>\n",
              "      <td>False</td>\n",
              "      <td>False</td>\n",
              "      <td>America/Puerto_Rico</td>\n",
              "    </tr>\n",
              "    <tr>\n",
              "      <th>4</th>\n",
              "      <td>610</td>\n",
              "      <td>18.29032</td>\n",
              "      <td>-67.12244</td>\n",
              "      <td>Anasco</td>\n",
              "      <td>PR</td>\n",
              "      <td>Puerto Rico</td>\n",
              "      <td>True</td>\n",
              "      <td>NaN</td>\n",
              "      <td>26686.0</td>\n",
              "      <td>286.9</td>\n",
              "      <td>72011</td>\n",
              "      <td>Añasco</td>\n",
              "      <td>{\"72011\": \"99.45\", \"72003\": \"0.55\"}</td>\n",
              "      <td>Añasco|Aguada</td>\n",
              "      <td>72011|72003</td>\n",
              "      <td>False</td>\n",
              "      <td>False</td>\n",
              "      <td>America/Puerto_Rico</td>\n",
              "    </tr>\n",
              "  </tbody>\n",
              "</table>\n",
              "</div>"
            ],
            "text/plain": [
              "   zip       lat       lng  ... imprecise military             timezone\n",
              "0  601  18.18005 -66.75218  ...     False    False  America/Puerto_Rico\n",
              "1  602  18.36074 -67.17519  ...     False    False  America/Puerto_Rico\n",
              "2  603  18.45440 -67.12201  ...     False    False  America/Puerto_Rico\n",
              "3  606  18.16721 -66.93828  ...     False    False  America/Puerto_Rico\n",
              "4  610  18.29032 -67.12244  ...     False    False  America/Puerto_Rico\n",
              "\n",
              "[5 rows x 18 columns]"
            ]
          },
          "metadata": {},
          "execution_count": 12
        }
      ]
    },
    {
      "cell_type": "code",
      "metadata": {
        "colab": {
          "base_uri": "https://localhost:8080/"
        },
        "id": "D9cAt4_DAvM1",
        "outputId": "14b32a5e-d1c1-46b6-be43-f86685bee1c5"
      },
      "source": [
        "zips.shape"
      ],
      "execution_count": 13,
      "outputs": [
        {
          "output_type": "execute_result",
          "data": {
            "text/plain": [
              "(33121, 18)"
            ]
          },
          "metadata": {},
          "execution_count": 13
        }
      ]
    },
    {
      "cell_type": "code",
      "metadata": {
        "colab": {
          "base_uri": "https://localhost:8080/"
        },
        "id": "IdfCv06_A2nW",
        "outputId": "b15f2d5c-650f-401f-d78b-0049b0d3eefd"
      },
      "source": [
        "zips['state_id'].unique()"
      ],
      "execution_count": 14,
      "outputs": [
        {
          "output_type": "execute_result",
          "data": {
            "text/plain": [
              "array(['PR', 'VI', 'MA', 'RI', 'NH', 'ME', 'VT', 'CT', 'NY', 'NJ', 'PA',\n",
              "       'DE', 'DC', 'VA', 'MD', 'WV', 'NC', 'SC', 'GA', 'FL', 'AL', 'TN',\n",
              "       'MS', 'KY', 'OH', 'IN', 'MI', 'IA', 'WI', 'MN', 'SD', 'ND', 'MT',\n",
              "       'IL', 'MO', 'KS', 'NE', 'LA', 'AR', 'OK', 'TX', 'CO', 'WY', 'ID',\n",
              "       'UT', 'AZ', 'NM', 'NV', 'CA', 'HI', 'AS', 'GU', 'MP', 'OR', 'WA',\n",
              "       'AK'], dtype=object)"
            ]
          },
          "metadata": {},
          "execution_count": 14
        }
      ]
    },
    {
      "cell_type": "code",
      "metadata": {
        "id": "X1Un1zuXA3pH"
      },
      "source": [
        "# remove the data of non-continental states (Alaska and Hawaii)\n",
        "\n",
        "zips.drop(zips[zips['state_id'] == 'AK'].index, inplace=True)\n",
        "zips.drop(zips[zips['state_id'] == 'HI'].index, inplace=True)"
      ],
      "execution_count": 15,
      "outputs": []
    },
    {
      "cell_type": "code",
      "metadata": {
        "colab": {
          "base_uri": "https://localhost:8080/"
        },
        "id": "xwjwTHNnA7FB",
        "outputId": "a615043a-bd4e-4964-eb37-9133880d1df5"
      },
      "source": [
        "zips['state_id'].unique()"
      ],
      "execution_count": 16,
      "outputs": [
        {
          "output_type": "execute_result",
          "data": {
            "text/plain": [
              "array(['PR', 'VI', 'MA', 'RI', 'NH', 'ME', 'VT', 'CT', 'NY', 'NJ', 'PA',\n",
              "       'DE', 'DC', 'VA', 'MD', 'WV', 'NC', 'SC', 'GA', 'FL', 'AL', 'TN',\n",
              "       'MS', 'KY', 'OH', 'IN', 'MI', 'IA', 'WI', 'MN', 'SD', 'ND', 'MT',\n",
              "       'IL', 'MO', 'KS', 'NE', 'LA', 'AR', 'OK', 'TX', 'CO', 'WY', 'ID',\n",
              "       'UT', 'AZ', 'NM', 'NV', 'CA', 'AS', 'GU', 'MP', 'OR', 'WA'],\n",
              "      dtype=object)"
            ]
          },
          "metadata": {},
          "execution_count": 16
        }
      ]
    },
    {
      "cell_type": "code",
      "metadata": {
        "colab": {
          "base_uri": "https://localhost:8080/"
        },
        "id": "h66IyA_zA-ro",
        "outputId": "f952c588-2cfd-4349-d475-5abaecfcc7a2"
      },
      "source": [
        "# all is (33121, 18)\n",
        "\n",
        "zips.shape"
      ],
      "execution_count": 17,
      "outputs": [
        {
          "output_type": "execute_result",
          "data": {
            "text/plain": [
              "(32789, 18)"
            ]
          },
          "metadata": {},
          "execution_count": 17
        }
      ]
    },
    {
      "cell_type": "code",
      "metadata": {
        "colab": {
          "base_uri": "https://localhost:8080/"
        },
        "id": "PeYHzvguA-x1",
        "outputId": "9f4ae06b-e82a-47af-ea11-be7aae1d5e55"
      },
      "source": [
        "# check missing values in variables\n",
        "\n",
        "zips.isnull().sum()"
      ],
      "execution_count": 18,
      "outputs": [
        {
          "output_type": "execute_result",
          "data": {
            "text/plain": [
              "zip                     0\n",
              "lat                     0\n",
              "lng                     0\n",
              "city                    0\n",
              "state_id                0\n",
              "state_name              0\n",
              "zcta                    0\n",
              "parent_zcta         32789\n",
              "population             24\n",
              "density                24\n",
              "county_fips             0\n",
              "county_name             0\n",
              "county_weights          0\n",
              "county_names_all        0\n",
              "county_fips_all         0\n",
              "imprecise               0\n",
              "military                0\n",
              "timezone                0\n",
              "dtype: int64"
            ]
          },
          "metadata": {},
          "execution_count": 18
        }
      ]
    },
    {
      "cell_type": "markdown",
      "metadata": {
        "id": "SbpVsn8pBINQ"
      },
      "source": [
        "# Data clustering algorithm: DBSCAN (Density-based spatial clustering of applications with noise)\n",
        "\n",
        "Step:\n",
        "1. BSCAN requires two parameters: scan radius (EPS) and minimum number of inclusion points (minpts). Select any point that is not visited and find out all nearby points within EPS (including EPS).\n",
        "2. If the number of nearby points ≥ minpts, the current point and its nearby points become a cluster. Then, the starting point is marked as visited. Then recursively classified in the same way for others unvisited points. \n",
        "3. If the number of nearby points < minpts, the point is temporarily marked as a noise point.\n",
        "4. If the cluster is fully extended, that is, all points in the cluster are marked as visited. Then using the same algorithm to deal with the unreachable points."
      ]
    },
    {
      "cell_type": "code",
      "metadata": {
        "colab": {
          "base_uri": "https://localhost:8080/",
          "height": 363
        },
        "id": "lva8SusxA-3x",
        "outputId": "94258e64-ebe3-49bc-cb8c-3faa6a728695"
      },
      "source": [
        "# sorted 10 cities by the density of zip code\n",
        "zips.drop_duplicates(inplace=True)\n",
        "zipCounts = zips.groupby(['city'], as_index=False).count()\n",
        "sorted_cities = zipCounts[['city', 'zip']].sort_values(by=['zip'], ascending=False).head(10)\n",
        "sorted_cities"
      ],
      "execution_count": 60,
      "outputs": [
        {
          "output_type": "execute_result",
          "data": {
            "text/html": [
              "<div>\n",
              "<style scoped>\n",
              "    .dataframe tbody tr th:only-of-type {\n",
              "        vertical-align: middle;\n",
              "    }\n",
              "\n",
              "    .dataframe tbody tr th {\n",
              "        vertical-align: top;\n",
              "    }\n",
              "\n",
              "    .dataframe thead th {\n",
              "        text-align: right;\n",
              "    }\n",
              "</style>\n",
              "<table border=\"1\" class=\"dataframe\">\n",
              "  <thead>\n",
              "    <tr style=\"text-align: right;\">\n",
              "      <th></th>\n",
              "      <th>city</th>\n",
              "      <th>zip</th>\n",
              "    </tr>\n",
              "  </thead>\n",
              "  <tbody>\n",
              "    <tr>\n",
              "      <th>7099</th>\n",
              "      <td>Houston</td>\n",
              "      <td>105</td>\n",
              "    </tr>\n",
              "    <tr>\n",
              "      <th>16246</th>\n",
              "      <td>Washington</td>\n",
              "      <td>75</td>\n",
              "    </tr>\n",
              "    <tr>\n",
              "      <th>10758</th>\n",
              "      <td>New York</td>\n",
              "      <td>69</td>\n",
              "    </tr>\n",
              "    <tr>\n",
              "      <th>8810</th>\n",
              "      <td>Los Angeles</td>\n",
              "      <td>65</td>\n",
              "    </tr>\n",
              "    <tr>\n",
              "      <th>9752</th>\n",
              "      <td>Miami</td>\n",
              "      <td>63</td>\n",
              "    </tr>\n",
              "    <tr>\n",
              "      <th>13602</th>\n",
              "      <td>San Antonio</td>\n",
              "      <td>62</td>\n",
              "    </tr>\n",
              "    <tr>\n",
              "      <th>7650</th>\n",
              "      <td>Kansas City</td>\n",
              "      <td>61</td>\n",
              "    </tr>\n",
              "    <tr>\n",
              "      <th>3642</th>\n",
              "      <td>Dallas</td>\n",
              "      <td>58</td>\n",
              "    </tr>\n",
              "    <tr>\n",
              "      <th>2717</th>\n",
              "      <td>Chicago</td>\n",
              "      <td>56</td>\n",
              "    </tr>\n",
              "    <tr>\n",
              "      <th>11993</th>\n",
              "      <td>Philadelphia</td>\n",
              "      <td>53</td>\n",
              "    </tr>\n",
              "  </tbody>\n",
              "</table>\n",
              "</div>"
            ],
            "text/plain": [
              "               city  zip\n",
              "7099        Houston  105\n",
              "16246    Washington   75\n",
              "10758      New York   69\n",
              "8810    Los Angeles   65\n",
              "9752          Miami   63\n",
              "13602   San Antonio   62\n",
              "7650    Kansas City   61\n",
              "3642         Dallas   58\n",
              "2717        Chicago   56\n",
              "11993  Philadelphia   53"
            ]
          },
          "metadata": {},
          "execution_count": 60
        }
      ]
    },
    {
      "cell_type": "code",
      "metadata": {
        "colab": {
          "base_uri": "https://localhost:8080/"
        },
        "id": "ieBs5UDEA-8x",
        "outputId": "7594010f-bf99-45e9-c2f3-b4c43312a8c4"
      },
      "source": [
        "# EPS: searching the smallest city in size on the Internet, and then calculating\n",
        "# its aproximate radius using Google maps. Picked 0.29\n",
        "\n",
        "# minpts: the zip counts of 10th city is 53. Picked 52.\n",
        "\n",
        "zipCoords = zips[['lat', 'lng']]\n",
        "model = DBSCAN(eps=0.29, min_samples=52)\n",
        "model.fit(zipCoords)"
      ],
      "execution_count": 36,
      "outputs": [
        {
          "output_type": "execute_result",
          "data": {
            "text/plain": [
              "DBSCAN(algorithm='auto', eps=0.29, leaf_size=30, metric='euclidean',\n",
              "       metric_params=None, min_samples=52, n_jobs=None, p=None)"
            ]
          },
          "metadata": {},
          "execution_count": 36
        }
      ]
    },
    {
      "cell_type": "code",
      "metadata": {
        "colab": {
          "base_uri": "https://localhost:8080/"
        },
        "id": "THWISiazBSEr",
        "outputId": "60280cf6-bf84-49b2-a020-1e9ab8e5c60b"
      },
      "source": [
        "# The resulting model classify each row to a specific cluster with a label\n",
        "labels = model.labels_\n",
        "unique, counts = np.unique(labels, return_counts=True)\n",
        "# checked the number of clusters automatically created.\n",
        "len(counts)"
      ],
      "execution_count": 22,
      "outputs": [
        {
          "output_type": "execute_result",
          "data": {
            "text/plain": [
              "45"
            ]
          },
          "metadata": {},
          "execution_count": 22
        }
      ]
    },
    {
      "cell_type": "code",
      "metadata": {
        "id": "80ZxOOFDBUsp"
      },
      "source": [
        "# saved the first 10 clusters in the dataset, order by descending\n",
        "clusters = pd.DataFrame({'label':unique[1:], 'counts':counts[1:]})\n",
        "cities_10 = clusters.sort_values(by=['counts'], ascending=False).head(10)"
      ],
      "execution_count": 62,
      "outputs": []
    },
    {
      "cell_type": "code",
      "metadata": {
        "colab": {
          "base_uri": "https://localhost:8080/",
          "height": 212
        },
        "id": "pk2yv0mWBU2a",
        "outputId": "73ad62d8-d3e3-4121-d061-d96a72da4212"
      },
      "source": [
        "map1 = Basemap(llcrnrlon = -125, \n",
        "            llcrnrlat = 23,\n",
        "            urcrnrlon = -66,\n",
        "            urcrnrlat = 50,\n",
        "            projection ='mill',\n",
        "            resolution = 'c')\n",
        "\n",
        "map1.drawcountries(color='blue', linewidth=2.0)\n",
        "map1.drawstates()\n",
        "map1.drawcoastlines()\n",
        "map1.drawlsmask(ocean_color=\"aqua\")\n",
        "\n",
        "# For each cluster in the first 10 cities with most zip codes\n",
        "# every zip code is ploted with the same color using its map coordinate\n",
        "\n",
        "for i, cluster_row in cities_10.iterrows():\n",
        "   rgb = [rd.random(),rd.random(),rd.random()]\n",
        "   clusteri = zipCoords[labels == cluster_row['label']]\n",
        "   for j, zip_loc in clusteri.iterrows():\n",
        "      x, y = map1(zip_loc['lng'], zip_loc['lat'])\n",
        "      map1.plot(x, y, marker='s',color=rgb)\n",
        "\n",
        "plt.show()"
      ],
      "execution_count": 85,
      "outputs": [
        {
          "output_type": "display_data",
          "data": {
            "image/png": "[encoded data removed]",
            "text/plain": [
              "<Figure size 432x288 with 1 Axes>"
            ]
          },
          "metadata": {}
        }
      ]
    },
    {
      "cell_type": "code",
      "metadata": {
        "colab": {
          "base_uri": "https://localhost:8080/",
          "height": 212
        },
        "id": "dPzjfLv_BlNY",
        "outputId": "d404e8d9-4111-4ee2-f2af-8e27a0d9b24f"
      },
      "source": [
        "map2 = Basemap(llcrnrlon = -125, \n",
        "            llcrnrlat = 23,\n",
        "            urcrnrlon = -66,\n",
        "            urcrnrlat = 50,\n",
        "            projection ='mill',\n",
        "            resolution = 'c')\n",
        "\n",
        "map2.drawcountries(color='blue', linewidth=2.0)\n",
        "map2.drawstates()\n",
        "map2.drawcoastlines()\n",
        "map2.drawlsmask(ocean_color=\"aqua\")\n",
        "\n",
        "# For each group obtaining by grouping the dataset by Cities, pickde the first \n",
        "# one occurrence city to represent this city. To compare with the clustering algorithm\n",
        "\n",
        "for i, cluster_row in sorted_cities.iterrows():\n",
        "   rgb = [rd.random(), rd.random(), rd.random()]\n",
        "   clusteri = zips[zips.city == cluster_row['city']]\n",
        "   reference = clusteri.iloc[0]\n",
        "   x, y = map2(reference['lng'], reference['lat'])\n",
        "   map2.plot(x, y, marker='o', markersize=10, label=reference['city'], color=rgb)\n",
        "\n",
        "fontP = FontProperties()\n",
        "fontP.set_size('small')\n",
        "plt.legend(loc='upper right', bbox_to_anchor=(1.2, 1), prop=fontP)\n",
        "plt.show()"
      ],
      "execution_count": 87,
      "outputs": [
        {
          "output_type": "display_data",
          "data": {
            "image/png": "[encoded data removed]",
            "text/plain": [
              "<Figure size 432x288 with 1 Axes>"
            ]
          },
          "metadata": {}
        }
      ]
    },
    {
      "cell_type": "markdown",
      "metadata": {
        "id": "42JDy-2RI_CM"
      },
      "source": [
        "# conclusion\n",
        "The first city is Houston. The second is washing. The Third is New York, etc.\n",
        "From the map1 and map2, we can see there are 3 different clusterings. In some case some, two more cities become a clustering. The reasons are that the zipcode is sparse or the distance is too far. \n"
      ]
    }
  ]
}